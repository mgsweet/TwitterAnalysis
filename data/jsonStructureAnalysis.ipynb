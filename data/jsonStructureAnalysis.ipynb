{
 "cells": [
  {
   "cell_type": "code",
   "execution_count": 58,
   "metadata": {},
   "outputs": [
    {
     "ename": "SyntaxError",
     "evalue": "invalid syntax (<ipython-input-58-6956275a6bd8>, line 1)",
     "output_type": "error",
     "traceback": [
      "\u001b[0;36m  File \u001b[0;32m\"<ipython-input-58-6956275a6bd8>\"\u001b[0;36m, line \u001b[0;32m1\u001b[0m\n\u001b[0;31m    Json Structure Analysis\u001b[0m\n\u001b[0m                 ^\u001b[0m\n\u001b[0;31mSyntaxError\u001b[0m\u001b[0;31m:\u001b[0m invalid syntax\n"
     ]
    }
   ],
   "source": [
    "# Json Structure Analysis"
   ]
  },
  {
   "cell_type": "markdown",
   "metadata": {},
   "source": [
    "## Remain：\n",
    "You have to add `]}` at the end of `tinyTwitter.json` to avoid JSON decode failure."
   ]
  },
  {
   "cell_type": "code",
   "execution_count": 13,
   "metadata": {},
   "outputs": [],
   "source": [
    "import json\n",
    "\n",
    "tinyTwitterPath = 'tinyTwitter.json'\n",
    "\n",
    "with open(tinyTwitterPath, 'r') as f:\n",
    "    data = json.load(f)\n"
   ]
  },
  {
   "cell_type": "code",
   "execution_count": 14,
   "metadata": {},
   "outputs": [
    {
     "name": "stdout",
     "output_type": "stream",
     "text": [
      "total_rows offset rows "
     ]
    }
   ],
   "source": [
    "for key in data.keys():\n",
    "    print(key, end = ' ')"
   ]
  },
  {
   "cell_type": "markdown",
   "metadata": {},
   "source": [
    "## The number of tweeters in the *tinyTwitter* file"
   ]
  },
  {
   "cell_type": "code",
   "execution_count": 15,
   "metadata": {},
   "outputs": [
    {
     "data": {
      "text/plain": [
       "999"
      ]
     },
     "execution_count": 15,
     "metadata": {},
     "output_type": "execute_result"
    }
   ],
   "source": [
    "len(data['rows'])"
   ]
  },
  {
   "cell_type": "code",
   "execution_count": 16,
   "metadata": {},
   "outputs": [],
   "source": [
    "firstTwitter = data['rows'][0];"
   ]
  },
  {
   "cell_type": "code",
   "execution_count": 17,
   "metadata": {},
   "outputs": [
    {
     "name": "stdout",
     "output_type": "stream",
     "text": [
      "id key value doc "
     ]
    }
   ],
   "source": [
    "for key in firstTwitter.keys():\n",
    "    print(key, end = ' ')"
   ]
  },
  {
   "cell_type": "markdown",
   "metadata": {},
   "source": [
    "## How to get hashtags:"
   ]
  },
  {
   "cell_type": "code",
   "execution_count": 8,
   "metadata": {},
   "outputs": [
    {
     "data": {
      "text/plain": [
       "[]"
      ]
     },
     "execution_count": 8,
     "metadata": {},
     "output_type": "execute_result"
    }
   ],
   "source": [
    "firstTwitter['doc']['entities']['hashtags']"
   ]
  },
  {
   "cell_type": "markdown",
   "metadata": {},
   "source": [
    "## How to get language:"
   ]
  },
  {
   "cell_type": "code",
   "execution_count": 7,
   "metadata": {
    "scrolled": true
   },
   "outputs": [
    {
     "data": {
      "text/plain": [
       "'es'"
      ]
     },
     "execution_count": 7,
     "metadata": {},
     "output_type": "execute_result"
    }
   ],
   "source": [
    "firstTwitter['doc']['lang']"
   ]
  },
  {
   "cell_type": "markdown",
   "metadata": {},
   "source": [
    "## The twitters with retweet but have different hashtags with origin."
   ]
  },
  {
   "cell_type": "code",
   "execution_count": 38,
   "metadata": {},
   "outputs": [],
   "source": [
    "twitterIwant = []\n",
    "for twitter in data['rows']:\n",
    "    if twitter['doc']['retweet_count'] and len(twitter['doc']['entities']['hashtags']):\n",
    "        if (len(twitter['doc']['entities']['hashtags']) \\\n",
    "            != len(twitter['doc']['retweeted_status']['entities']['hashtags'])):\n",
    "            twitterIwant += [twitter['doc']]\n",
    "#         break\n",
    "#         print(twitter['doc']['text'])"
   ]
  },
  {
   "cell_type": "code",
   "execution_count": 39,
   "metadata": {},
   "outputs": [
    {
     "data": {
      "text/plain": [
       "6"
      ]
     },
     "execution_count": 39,
     "metadata": {},
     "output_type": "execute_result"
    }
   ],
   "source": [
    "len(twitterIwant)"
   ]
  },
  {
   "cell_type": "code",
   "execution_count": 57,
   "metadata": {},
   "outputs": [
    {
     "data": {
      "text/plain": [
       "'RT @CutLunchAdv: Happy New Year!! We wish you many happy adventures for 2020, whatever adventure means to you 😊😊😊 #adventure #bedaring #try…'"
      ]
     },
     "execution_count": 57,
     "metadata": {},
     "output_type": "execute_result"
    }
   ],
   "source": [
    "twitterIwant[5]['text']"
   ]
  },
  {
   "cell_type": "code",
   "execution_count": 56,
   "metadata": {},
   "outputs": [
    {
     "data": {
      "text/plain": [
       "'Happy New Year!! We wish you many happy adventures for 2020, whatever adventure means to you 😊😊😊 #adventure… https://t.co/MvT4kDvIbT'"
      ]
     },
     "execution_count": 56,
     "metadata": {},
     "output_type": "execute_result"
    }
   ],
   "source": [
    "twitterIwant[5]['retweeted_status']['text']"
   ]
  },
  {
   "cell_type": "code",
   "execution_count": 54,
   "metadata": {},
   "outputs": [
    {
     "data": {
      "text/plain": [
       "[{'text': 'adventure', 'indices': [114, 124]},\n",
       " {'text': 'bedaring', 'indices': [125, 134]}]"
      ]
     },
     "execution_count": 54,
     "metadata": {},
     "output_type": "execute_result"
    }
   ],
   "source": [
    "twitterIwant[5]['entities']['hashtags']"
   ]
  },
  {
   "cell_type": "code",
   "execution_count": 55,
   "metadata": {},
   "outputs": [
    {
     "data": {
      "text/plain": [
       "[{'text': 'adventure', 'indices': [97, 107]}]"
      ]
     },
     "execution_count": 55,
     "metadata": {},
     "output_type": "execute_result"
    }
   ],
   "source": [
    "twitterIwant[5]['retweeted_status']['entities']['hashtags']"
   ]
  },
  {
   "cell_type": "markdown",
   "metadata": {},
   "source": [
    "## Rank hashtags without conbine substring"
   ]
  },
  {
   "cell_type": "code",
   "execution_count": 48,
   "metadata": {},
   "outputs": [],
   "source": [
    "hashtagDict = {}\n",
    "\n",
    "for twitter in data['rows']:\n",
    "    hashtagDatas = twitter['doc']['entities']['hashtags']\n",
    "    for hashtagData in hashtagDatas:\n",
    "        hashtag = hashtagData['text']\n",
    "        if hashtag in hashtagDict:\n",
    "            hashtagDict[hashtag] += 1\n",
    "        else:\n",
    "            hashtagDict[hashtag] = 1"
   ]
  },
  {
   "cell_type": "code",
   "execution_count": 52,
   "metadata": {},
   "outputs": [
    {
     "data": {
      "text/plain": [
       "[('climatechange', 5),\n",
       " ('ScottyfromMarketing', 5),\n",
       " ('AustraliaBurns', 5),\n",
       " ('auspol', 5),\n",
       " ('SonicMovie', 4),\n",
       " ('bushfiresNSW', 3),\n",
       " ('NSWfires', 3),\n",
       " ('SydNYE', 2),\n",
       " ('Sydney', 2),\n",
       " ('climate', 2),\n",
       " ('AustralianFires', 2),\n",
       " ('Fireworks', 2),\n",
       " ('NYE2020', 2),\n",
       " ('เป๊กผลิตโชค', 2),\n",
       " ('LiarFromTheShire', 2),\n",
       " ('MorrisonFires', 2),\n",
       " ('ConfigMgr', 1),\n",
       " ('ilovesydney', 1),\n",
       " ('sideproject', 1),\n",
       " ('makers', 1),\n",
       " ('bulltitts', 1),\n",
       " ('FATCA', 1),\n",
       " ('DecadeChallenge', 1),\n",
       " ('2010vs2020', 1),\n",
       " ('ABC', 1),\n",
       " ('priorities', 1),\n",
       " ('stowaway', 1),\n",
       " ('JoseOut', 1),\n",
       " ('Duindorp', 1),\n",
       " ('Gardening', 1),\n",
       " ('UrbanGardens', 1),\n",
       " ('NewYearsDay2020', 1),\n",
       " ('smoko', 1),\n",
       " ('YouveStolenMyChildhood', 1),\n",
       " ('HowDareYou', 1),\n",
       " ('PeopleAreDying', 1),\n",
       " ('CoalMan', 1),\n",
       " ('Brisbane', 1),\n",
       " ('Labor', 1),\n",
       " ('LoveIslandAU', 1),\n",
       " ('cheers', 1),\n",
       " ('skål', 1),\n",
       " ('AvsTwitterPsychic', 1),\n",
       " ('GoAvsGo', 1),\n",
       " ('Climatecriminals', 1),\n",
       " ('9News', 1),\n",
       " ('happynewyear', 1),\n",
       " ('TheirABC', 1),\n",
       " ('PrimeMinister', 1),\n",
       " ('sackfomo', 1),\n",
       " ('sackscummo', 1),\n",
       " ('SouthCoastFires', 1),\n",
       " ('Bushfires', 1),\n",
       " ('Canberra', 1),\n",
       " ('Auspol', 1),\n",
       " ('NSWPol', 1),\n",
       " ('peckpalitchoke', 1),\n",
       " ('TORvsMIN', 1),\n",
       " ('workout', 1),\n",
       " ('AISBangkokCountdown2020xPeck', 1),\n",
       " ('เค้าท์ดาวน์2020กับพี่เป๊ก', 1),\n",
       " ('Countdown2020withPeck', 1),\n",
       " ('ScottyFromMarketing', 1),\n",
       " ('FE3H', 1),\n",
       " ('sylvix', 1),\n",
       " ('ClimateChange', 1),\n",
       " ('bloodsun', 1),\n",
       " ('nye', 1),\n",
       " ('EnergyAccess', 1),\n",
       " ('BringBackTony', 1),\n",
       " ('NewYearResolutions', 1),\n",
       " ('CountDown2020WithPeck', 1),\n",
       " ('เคาท์ดาวน์2020กับพี่เป๊ก', 1),\n",
       " ('my', 1),\n",
       " ('twitter', 1),\n",
       " ('hacked', 1),\n",
       " ('yay', 1),\n",
       " ('freaking', 1),\n",
       " ('nigeria', 1),\n",
       " ('deniers', 1),\n",
       " ('BurnNewsCorp', 1),\n",
       " ('LittleManMorrison', 1),\n",
       " ('HappyNewYear', 1),\n",
       " ('Adapt', 1),\n",
       " ('canberra', 1),\n",
       " ('HongKongProtest', 1),\n",
       " ('denierfromtheshire', 1),\n",
       " ('อิจฉาจ้า', 1),\n",
       " ('เศร้า', 1),\n",
       " ('500daysofsummer', 1),\n",
       " ('NowPlaying', 1),\n",
       " ('ScottyFomMarketing', 1),\n",
       " ('aliens', 1),\n",
       " ('area51', 1),\n",
       " ('HNY2020', 1),\n",
       " ('ausmedia', 1),\n",
       " ('MSM', 1),\n",
       " ('NYE', 1),\n",
       " ('VictoriaFires', 1),\n",
       " ('Wankpuffin', 1),\n",
       " ('LockHimUp', 1),\n",
       " ('quote', 1),\n",
       " ('tesla', 1),\n",
       " ('Israel', 1),\n",
       " ('ElectricCar', 1),\n",
       " ('Australia', 1),\n",
       " ('happynewyear2020', 1),\n",
       " ('BolsonaroMaisForteEm2020', 1),\n",
       " ('Scottludlum', 1),\n",
       " ('koalakiller', 1),\n",
       " ('climateemergency', 1),\n",
       " ('adventure', 1),\n",
       " ('bedaring', 1),\n",
       " ('RBD', 1),\n",
       " ('Bilpin', 1),\n",
       " ('RiseofSkywalker', 1),\n",
       " ('TexPerkins', 1),\n",
       " ('TheFinger', 1)]"
      ]
     },
     "execution_count": 52,
     "metadata": {},
     "output_type": "execute_result"
    }
   ],
   "source": [
    "hashtagRank = sorted(hashtagDict.items(), key=lambda d:d[1], reverse = True)\n",
    "hashtagRank"
   ]
  },
  {
   "cell_type": "markdown",
   "metadata": {},
   "source": [
    "## Rank languages"
   ]
  },
  {
   "cell_type": "code",
   "execution_count": 55,
   "metadata": {},
   "outputs": [],
   "source": [
    "langDict = {}\n",
    "\n",
    "for twitter in data['rows']:\n",
    "    lang = twitter['doc']['lang']\n",
    "    if lang in langDict:\n",
    "        langDict[lang] += 1\n",
    "    else:\n",
    "        langDict[lang] = 1"
   ]
  },
  {
   "cell_type": "code",
   "execution_count": 56,
   "metadata": {
    "scrolled": true
   },
   "outputs": [
    {
     "data": {
      "text/plain": [
       "[('en', 832),\n",
       " ('und', 69),\n",
       " ('fr', 18),\n",
       " ('pt', 17),\n",
       " ('es', 16),\n",
       " ('th', 9),\n",
       " ('tl', 6),\n",
       " ('ar', 4),\n",
       " ('zh', 4),\n",
       " ('de', 4),\n",
       " ('ja', 3),\n",
       " ('in', 2),\n",
       " ('et', 2),\n",
       " ('fa', 2),\n",
       " ('ht', 2),\n",
       " ('ko', 2),\n",
       " ('cy', 1),\n",
       " ('tr', 1),\n",
       " ('nl', 1),\n",
       " ('ro', 1),\n",
       " ('pl', 1),\n",
       " ('hu', 1),\n",
       " ('ru', 1)]"
      ]
     },
     "execution_count": 56,
     "metadata": {},
     "output_type": "execute_result"
    }
   ],
   "source": [
    "langRank = sorted(langDict.items(), key=lambda d:d[1], reverse = True)\n",
    "langRank"
   ]
  },
  {
   "cell_type": "markdown",
   "metadata": {},
   "source": [
    "## How to trully read separately"
   ]
  },
  {
   "cell_type": "code",
   "execution_count": 315,
   "metadata": {
    "scrolled": true
   },
   "outputs": [
    {
     "name": "stdout",
     "output_type": "stream",
     "text": [
      "52 53\n",
      "{\"total_rows\":215443567,\"offset\":211386044,\"rows\":[\n",
      "\n",
      "{\"total_rows\":215443567,\"offset\":211386044,\"rows\":[\r\n",
      "\n"
     ]
    }
   ],
   "source": [
    "import mmap\n",
    "import json\n",
    "\n",
    "jsondata = None\n",
    "\n",
    "with open(dataPath, 'r') as f: \n",
    "    map = mmap.mmap(f.fileno(), length=0, access=mmap.ACCESS_READ)\n",
    "    data = f.readline()\n",
    "    mdata = map.readline().decode('utf-8')\n",
    "    print(len(data), len(mdata))\n",
    "    print(data)\n",
    "    print(mdata)\n",
    "f.close()"
   ]
  },
  {
   "cell_type": "code",
   "execution_count": 324,
   "metadata": {
    "scrolled": true
   },
   "outputs": [
    {
     "data": {
      "text/plain": [
       "'{\"total_rows\":215443567,\"offset\":211386044,\"rows\":[\\r\\n'"
      ]
     },
     "execution_count": 324,
     "metadata": {},
     "output_type": "execute_result"
    }
   ],
   "source": [
    "mdata"
   ]
  },
  {
   "cell_type": "code",
   "execution_count": 317,
   "metadata": {},
   "outputs": [
    {
     "data": {
      "text/plain": [
       "'{\"total_rows\":215443567,\"offset\":211386044,\"rows\":[\\n'"
      ]
     },
     "execution_count": 317,
     "metadata": {},
     "output_type": "execute_result"
    }
   ],
   "source": [
    "data"
   ]
  },
  {
   "cell_type": "markdown",
   "metadata": {},
   "source": [
    "## Different read function time cost:"
   ]
  },
  {
   "cell_type": "code",
   "execution_count": 245,
   "metadata": {
    "scrolled": true
   },
   "outputs": [
    {
     "name": "stdout",
     "output_type": "stream",
     "text": [
      "5000\n",
      "0.09474611282348633\n"
     ]
    }
   ],
   "source": [
    "import time\n",
    "dataPath = 'smallTwitter.json'\n",
    "start = time.time()\n",
    "with open(dataPath, 'r') as f:\n",
    "    line = f.readline()\n",
    "    count = 1\n",
    "    while line:\n",
    "        count += 1\n",
    "        line = f.readline()\n",
    "    print(count - 1)\n",
    "print(time.time() - start)"
   ]
  },
  {
   "cell_type": "code",
   "execution_count": 240,
   "metadata": {},
   "outputs": [
    {
     "name": "stdout",
     "output_type": "stream",
     "text": [
      "5000\n",
      "0.09291410446166992\n"
     ]
    }
   ],
   "source": [
    "start = time.time()\n",
    "with open(dataPath, 'r') as f:\n",
    "    count = 0\n",
    "    for line in f:\n",
    "        count += 1\n",
    "    print(count)\n",
    "print(time.time() - start)"
   ]
  },
  {
   "cell_type": "code",
   "execution_count": 173,
   "metadata": {},
   "outputs": [
    {
     "name": "stdout",
     "output_type": "stream",
     "text": [
      "5000\n",
      "0.12223696708679199\n"
     ]
    }
   ],
   "source": [
    "start = time.time()\n",
    "with open(dataPath, 'r') as f:\n",
    "    count = 0\n",
    "    for line in f.readlines():\n",
    "        count += 1\n",
    "    print(count)\n",
    "print(time.time() - start)"
   ]
  },
  {
   "cell_type": "code",
   "execution_count": 197,
   "metadata": {},
   "outputs": [
    {
     "name": "stdout",
     "output_type": "stream",
     "text": [
      "5000\n",
      "0.29171299934387207\n"
     ]
    }
   ],
   "source": [
    "import os\n",
    "datasize = os.path.getsize(dataPath)\n",
    "start = time.time()\n",
    "with open(dataPath, 'r') as f:\n",
    "    count = 0 \n",
    "    while f.tell() < datasize:\n",
    "        f.readline()\n",
    "        count += 1;\n",
    "    print(count)\n",
    "print(time.time() - start)"
   ]
  },
  {
   "cell_type": "markdown",
   "metadata": {},
   "source": [
    "Do not use f.tell() many time!! very slow!"
   ]
  },
  {
   "cell_type": "code",
   "execution_count": 239,
   "metadata": {},
   "outputs": [
    {
     "name": "stdout",
     "output_type": "stream",
     "text": [
      "5000\n",
      "0.09895110130310059\n"
     ]
    }
   ],
   "source": [
    "import os\n",
    "datasize = os.path.getsize(dataPath)\n",
    "start = time.time()\n",
    "with open(dataPath, 'r') as f:\n",
    "    count = 0 \n",
    "    while f.readline():\n",
    "        count += 1;\n",
    "    print(count)\n",
    "print(time.time() - start)"
   ]
  },
  {
   "cell_type": "markdown",
   "metadata": {},
   "source": [
    "## Can I count the file pointer myself? No"
   ]
  },
  {
   "cell_type": "code",
   "execution_count": 186,
   "metadata": {},
   "outputs": [
    {
     "name": "stdout",
     "output_type": "stream",
     "text": [
      "53 53\n",
      "2562 2563\n",
      "8171 8166\n",
      "11002 10995\n",
      "4\n",
      "0.002588033676147461\n"
     ]
    }
   ],
   "source": [
    "start = time.time()\n",
    "with open(dataPath, 'r') as f:\n",
    "    count = 0 \n",
    "    filePoint = 0\n",
    "    while filePoint <= 10000:\n",
    "        data = f.readline()\n",
    "        '\\n'\n",
    "        filePoint += (len(repr(data)) - 2)\n",
    "        print (filePoint, f.tell())\n",
    "        count += 1;\n",
    "    print(count)\n",
    "print(time.time() - start)"
   ]
  },
  {
   "cell_type": "markdown",
   "metadata": {},
   "source": [
    "## The best way to read faster"
   ]
  },
  {
   "cell_type": "code",
   "execution_count": 323,
   "metadata": {},
   "outputs": [
    {
     "name": "stdout",
     "output_type": "stream",
     "text": [
      "5000\n",
      "0.032861948013305664\n"
     ]
    }
   ],
   "source": [
    "import mmap\n",
    "start = time.time()\n",
    "with open(dataPath, \"r\") as f:\n",
    "    # memory-map the file, size 0 means whole file\n",
    "    map = mmap.mmap(f.fileno(), length=0, access=mmap.ACCESS_READ)\n",
    "    count = 0\n",
    "    while map.readline():\n",
    "        count += 1\n",
    "        f.tell()\n",
    "    print(count)\n",
    "    map.close()\n",
    "print(time.time() - start)"
   ]
  },
  {
   "cell_type": "code",
   "execution_count": null,
   "metadata": {},
   "outputs": [],
   "source": []
  }
 ],
 "metadata": {
  "kernelspec": {
   "display_name": "Python 3",
   "language": "python",
   "name": "python3"
  },
  "language_info": {
   "codemirror_mode": {
    "name": "ipython",
    "version": 3
   },
   "file_extension": ".py",
   "mimetype": "text/x-python",
   "name": "python",
   "nbconvert_exporter": "python",
   "pygments_lexer": "ipython3",
   "version": "3.7.3"
  }
 },
 "nbformat": 4,
 "nbformat_minor": 2
}
